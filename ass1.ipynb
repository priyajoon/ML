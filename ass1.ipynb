{
 "cells": [
  {
   "cell_type": "code",
   "execution_count": 1,
   "id": "9c0fb8ae",
   "metadata": {},
   "outputs": [],
   "source": [
    "import pandas as pd\n",
    "import numpy as np"
   ]
  },
  {
   "cell_type": "code",
   "execution_count": 2,
   "id": "f1cb6bcf",
   "metadata": {},
   "outputs": [],
   "source": [
    "df=pd.read_csv('uber.csv')"
   ]
  },
  {
   "cell_type": "code",
   "execution_count": 3,
   "id": "1b692942",
   "metadata": {},
   "outputs": [
    {
     "name": "stdout",
     "output_type": "stream",
     "text": [
      "<class 'pandas.core.frame.DataFrame'>\n",
      "RangeIndex: 200000 entries, 0 to 199999\n",
      "Data columns (total 9 columns):\n",
      " #   Column             Non-Null Count   Dtype  \n",
      "---  ------             --------------   -----  \n",
      " 0   Unnamed: 0         200000 non-null  int64  \n",
      " 1   key                200000 non-null  object \n",
      " 2   fare_amount        200000 non-null  float64\n",
      " 3   pickup_datetime    200000 non-null  object \n",
      " 4   pickup_longitude   200000 non-null  float64\n",
      " 5   pickup_latitude    200000 non-null  float64\n",
      " 6   dropoff_longitude  199999 non-null  float64\n",
      " 7   dropoff_latitude   199999 non-null  float64\n",
      " 8   passenger_count    200000 non-null  int64  \n",
      "dtypes: float64(5), int64(2), object(2)\n",
      "memory usage: 13.7+ MB\n"
     ]
    }
   ],
   "source": [
    "df.info()"
   ]
  },
  {
   "cell_type": "code",
   "execution_count": 4,
   "id": "4c1e0223",
   "metadata": {},
   "outputs": [
    {
     "data": {
      "text/html": [
       "<div>\n",
       "<style scoped>\n",
       "    .dataframe tbody tr th:only-of-type {\n",
       "        vertical-align: middle;\n",
       "    }\n",
       "\n",
       "    .dataframe tbody tr th {\n",
       "        vertical-align: top;\n",
       "    }\n",
       "\n",
       "    .dataframe thead th {\n",
       "        text-align: right;\n",
       "    }\n",
       "</style>\n",
       "<table border=\"1\" class=\"dataframe\">\n",
       "  <thead>\n",
       "    <tr style=\"text-align: right;\">\n",
       "      <th></th>\n",
       "      <th>Unnamed: 0</th>\n",
       "      <th>key</th>\n",
       "      <th>fare_amount</th>\n",
       "      <th>pickup_datetime</th>\n",
       "      <th>pickup_longitude</th>\n",
       "      <th>pickup_latitude</th>\n",
       "      <th>dropoff_longitude</th>\n",
       "      <th>dropoff_latitude</th>\n",
       "      <th>passenger_count</th>\n",
       "    </tr>\n",
       "  </thead>\n",
       "  <tbody>\n",
       "    <tr>\n",
       "      <th>0</th>\n",
       "      <td>24238194</td>\n",
       "      <td>2015-05-07 19:52:06.0000003</td>\n",
       "      <td>7.5</td>\n",
       "      <td>2015-05-07 19:52:06 UTC</td>\n",
       "      <td>-73.999817</td>\n",
       "      <td>40.738354</td>\n",
       "      <td>-73.999512</td>\n",
       "      <td>40.723217</td>\n",
       "      <td>1</td>\n",
       "    </tr>\n",
       "    <tr>\n",
       "      <th>1</th>\n",
       "      <td>27835199</td>\n",
       "      <td>2009-07-17 20:04:56.0000002</td>\n",
       "      <td>7.7</td>\n",
       "      <td>2009-07-17 20:04:56 UTC</td>\n",
       "      <td>-73.994355</td>\n",
       "      <td>40.728225</td>\n",
       "      <td>-73.994710</td>\n",
       "      <td>40.750325</td>\n",
       "      <td>1</td>\n",
       "    </tr>\n",
       "    <tr>\n",
       "      <th>2</th>\n",
       "      <td>44984355</td>\n",
       "      <td>2009-08-24 21:45:00.00000061</td>\n",
       "      <td>12.9</td>\n",
       "      <td>2009-08-24 21:45:00 UTC</td>\n",
       "      <td>-74.005043</td>\n",
       "      <td>40.740770</td>\n",
       "      <td>-73.962565</td>\n",
       "      <td>40.772647</td>\n",
       "      <td>1</td>\n",
       "    </tr>\n",
       "    <tr>\n",
       "      <th>3</th>\n",
       "      <td>25894730</td>\n",
       "      <td>2009-06-26 08:22:21.0000001</td>\n",
       "      <td>5.3</td>\n",
       "      <td>2009-06-26 08:22:21 UTC</td>\n",
       "      <td>-73.976124</td>\n",
       "      <td>40.790844</td>\n",
       "      <td>-73.965316</td>\n",
       "      <td>40.803349</td>\n",
       "      <td>3</td>\n",
       "    </tr>\n",
       "    <tr>\n",
       "      <th>4</th>\n",
       "      <td>17610152</td>\n",
       "      <td>2014-08-28 17:47:00.000000188</td>\n",
       "      <td>16.0</td>\n",
       "      <td>2014-08-28 17:47:00 UTC</td>\n",
       "      <td>-73.925023</td>\n",
       "      <td>40.744085</td>\n",
       "      <td>-73.973082</td>\n",
       "      <td>40.761247</td>\n",
       "      <td>5</td>\n",
       "    </tr>\n",
       "  </tbody>\n",
       "</table>\n",
       "</div>"
      ],
      "text/plain": [
       "   Unnamed: 0                            key  fare_amount  \\\n",
       "0    24238194    2015-05-07 19:52:06.0000003          7.5   \n",
       "1    27835199    2009-07-17 20:04:56.0000002          7.7   \n",
       "2    44984355   2009-08-24 21:45:00.00000061         12.9   \n",
       "3    25894730    2009-06-26 08:22:21.0000001          5.3   \n",
       "4    17610152  2014-08-28 17:47:00.000000188         16.0   \n",
       "\n",
       "           pickup_datetime  pickup_longitude  pickup_latitude  \\\n",
       "0  2015-05-07 19:52:06 UTC        -73.999817        40.738354   \n",
       "1  2009-07-17 20:04:56 UTC        -73.994355        40.728225   \n",
       "2  2009-08-24 21:45:00 UTC        -74.005043        40.740770   \n",
       "3  2009-06-26 08:22:21 UTC        -73.976124        40.790844   \n",
       "4  2014-08-28 17:47:00 UTC        -73.925023        40.744085   \n",
       "\n",
       "   dropoff_longitude  dropoff_latitude  passenger_count  \n",
       "0         -73.999512         40.723217                1  \n",
       "1         -73.994710         40.750325                1  \n",
       "2         -73.962565         40.772647                1  \n",
       "3         -73.965316         40.803349                3  \n",
       "4         -73.973082         40.761247                5  "
      ]
     },
     "execution_count": 4,
     "metadata": {},
     "output_type": "execute_result"
    }
   ],
   "source": [
    "df.head(5)"
   ]
  },
  {
   "cell_type": "code",
   "execution_count": 5,
   "id": "0fbe4251",
   "metadata": {},
   "outputs": [
    {
     "data": {
      "text/html": [
       "<div>\n",
       "<style scoped>\n",
       "    .dataframe tbody tr th:only-of-type {\n",
       "        vertical-align: middle;\n",
       "    }\n",
       "\n",
       "    .dataframe tbody tr th {\n",
       "        vertical-align: top;\n",
       "    }\n",
       "\n",
       "    .dataframe thead th {\n",
       "        text-align: right;\n",
       "    }\n",
       "</style>\n",
       "<table border=\"1\" class=\"dataframe\">\n",
       "  <thead>\n",
       "    <tr style=\"text-align: right;\">\n",
       "      <th></th>\n",
       "      <th>Unnamed: 0</th>\n",
       "      <th>fare_amount</th>\n",
       "      <th>pickup_longitude</th>\n",
       "      <th>pickup_latitude</th>\n",
       "      <th>dropoff_longitude</th>\n",
       "      <th>dropoff_latitude</th>\n",
       "      <th>passenger_count</th>\n",
       "    </tr>\n",
       "  </thead>\n",
       "  <tbody>\n",
       "    <tr>\n",
       "      <th>count</th>\n",
       "      <td>2.000000e+05</td>\n",
       "      <td>200000.000000</td>\n",
       "      <td>200000.000000</td>\n",
       "      <td>200000.000000</td>\n",
       "      <td>199999.000000</td>\n",
       "      <td>199999.000000</td>\n",
       "      <td>200000.000000</td>\n",
       "    </tr>\n",
       "    <tr>\n",
       "      <th>mean</th>\n",
       "      <td>2.771250e+07</td>\n",
       "      <td>11.359955</td>\n",
       "      <td>-72.527638</td>\n",
       "      <td>39.935885</td>\n",
       "      <td>-72.525292</td>\n",
       "      <td>39.923890</td>\n",
       "      <td>1.684535</td>\n",
       "    </tr>\n",
       "    <tr>\n",
       "      <th>std</th>\n",
       "      <td>1.601382e+07</td>\n",
       "      <td>9.901776</td>\n",
       "      <td>11.437787</td>\n",
       "      <td>7.720539</td>\n",
       "      <td>13.117408</td>\n",
       "      <td>6.794829</td>\n",
       "      <td>1.385997</td>\n",
       "    </tr>\n",
       "    <tr>\n",
       "      <th>min</th>\n",
       "      <td>1.000000e+00</td>\n",
       "      <td>-52.000000</td>\n",
       "      <td>-1340.648410</td>\n",
       "      <td>-74.015515</td>\n",
       "      <td>-3356.666300</td>\n",
       "      <td>-881.985513</td>\n",
       "      <td>0.000000</td>\n",
       "    </tr>\n",
       "    <tr>\n",
       "      <th>25%</th>\n",
       "      <td>1.382535e+07</td>\n",
       "      <td>6.000000</td>\n",
       "      <td>-73.992065</td>\n",
       "      <td>40.734796</td>\n",
       "      <td>-73.991407</td>\n",
       "      <td>40.733823</td>\n",
       "      <td>1.000000</td>\n",
       "    </tr>\n",
       "    <tr>\n",
       "      <th>50%</th>\n",
       "      <td>2.774550e+07</td>\n",
       "      <td>8.500000</td>\n",
       "      <td>-73.981823</td>\n",
       "      <td>40.752592</td>\n",
       "      <td>-73.980093</td>\n",
       "      <td>40.753042</td>\n",
       "      <td>1.000000</td>\n",
       "    </tr>\n",
       "    <tr>\n",
       "      <th>75%</th>\n",
       "      <td>4.155530e+07</td>\n",
       "      <td>12.500000</td>\n",
       "      <td>-73.967154</td>\n",
       "      <td>40.767158</td>\n",
       "      <td>-73.963658</td>\n",
       "      <td>40.768001</td>\n",
       "      <td>2.000000</td>\n",
       "    </tr>\n",
       "    <tr>\n",
       "      <th>max</th>\n",
       "      <td>5.542357e+07</td>\n",
       "      <td>499.000000</td>\n",
       "      <td>57.418457</td>\n",
       "      <td>1644.421482</td>\n",
       "      <td>1153.572603</td>\n",
       "      <td>872.697628</td>\n",
       "      <td>208.000000</td>\n",
       "    </tr>\n",
       "  </tbody>\n",
       "</table>\n",
       "</div>"
      ],
      "text/plain": [
       "         Unnamed: 0    fare_amount  pickup_longitude  pickup_latitude  \\\n",
       "count  2.000000e+05  200000.000000     200000.000000    200000.000000   \n",
       "mean   2.771250e+07      11.359955        -72.527638        39.935885   \n",
       "std    1.601382e+07       9.901776         11.437787         7.720539   \n",
       "min    1.000000e+00     -52.000000      -1340.648410       -74.015515   \n",
       "25%    1.382535e+07       6.000000        -73.992065        40.734796   \n",
       "50%    2.774550e+07       8.500000        -73.981823        40.752592   \n",
       "75%    4.155530e+07      12.500000        -73.967154        40.767158   \n",
       "max    5.542357e+07     499.000000         57.418457      1644.421482   \n",
       "\n",
       "       dropoff_longitude  dropoff_latitude  passenger_count  \n",
       "count      199999.000000     199999.000000    200000.000000  \n",
       "mean          -72.525292         39.923890         1.684535  \n",
       "std            13.117408          6.794829         1.385997  \n",
       "min         -3356.666300       -881.985513         0.000000  \n",
       "25%           -73.991407         40.733823         1.000000  \n",
       "50%           -73.980093         40.753042         1.000000  \n",
       "75%           -73.963658         40.768001         2.000000  \n",
       "max          1153.572603        872.697628       208.000000  "
      ]
     },
     "execution_count": 5,
     "metadata": {},
     "output_type": "execute_result"
    }
   ],
   "source": [
    "df.describe()"
   ]
  },
  {
   "cell_type": "code",
   "execution_count": 6,
   "id": "4187f500",
   "metadata": {},
   "outputs": [
    {
     "data": {
      "text/plain": [
       "(200000, 9)"
      ]
     },
     "execution_count": 6,
     "metadata": {},
     "output_type": "execute_result"
    }
   ],
   "source": [
    "df.shape"
   ]
  },
  {
   "cell_type": "code",
   "execution_count": 7,
   "id": "0ee9f672",
   "metadata": {},
   "outputs": [
    {
     "name": "stdout",
     "output_type": "stream",
     "text": [
      "*****Before *****\n",
      "Missing values in the dataset:\n",
      "Unnamed: 0           0\n",
      "key                  0\n",
      "fare_amount          0\n",
      "pickup_datetime      0\n",
      "pickup_longitude     0\n",
      "pickup_latitude      0\n",
      "dropoff_longitude    1\n",
      "dropoff_latitude     1\n",
      "passenger_count      0\n",
      "dtype: int64\n",
      "Missing values after handling:\n",
      "fare_amount          0\n",
      "pickup_datetime      0\n",
      "pickup_longitude     0\n",
      "pickup_latitude      0\n",
      "dropoff_longitude    0\n",
      "dropoff_latitude     0\n",
      "passenger_count      0\n",
      "day_of_week          0\n",
      "dtype: int64\n"
     ]
    }
   ],
   "source": [
    "#preprocessing data\n",
    "\n",
    "#handling missing values and removing unwanted\n",
    "\n",
    "print(\"*****Before *****\")\n",
    "missing_values = df.isnull().sum()\n",
    "print(\"Missing values in the dataset:\")\n",
    "print(missing_values)\n",
    "\n",
    "df.drop(['Unnamed: 0','key'],axis =1,inplace = True)\n",
    "df.drop(df[df['fare_amount'].values<=0].index,inplace=True)\n",
    "df.drop(df[df['passenger_count']>10].index,inplace=True)\n",
    "df['pickup_datetime'] = pd.to_datetime(df['pickup_datetime'])\n",
    "df['day_of_week'] = df['pickup_datetime'].dt.dayofweek\n",
    "\n",
    "\n",
    "# Handle missing values\n",
    "# We can choose to drop rows with missing values or fill them with appropriate values.\n",
    "\n",
    "#df.dropna(inplace=True)\n",
    "\n",
    "# To fill missing values with the mean value of the column:\n",
    "df.fillna(df.mean(), inplace=True)\n",
    "\n",
    "# Ensure there are no more missing values\n",
    "missing_values = df.isnull().sum()\n",
    "print(\"Missing values after handling:\")\n",
    "print(missing_values)"
   ]
  },
  {
   "cell_type": "code",
   "execution_count": 8,
   "id": "4881ca2f",
   "metadata": {},
   "outputs": [
    {
     "data": {
      "text/html": [
       "<div>\n",
       "<style scoped>\n",
       "    .dataframe tbody tr th:only-of-type {\n",
       "        vertical-align: middle;\n",
       "    }\n",
       "\n",
       "    .dataframe tbody tr th {\n",
       "        vertical-align: top;\n",
       "    }\n",
       "\n",
       "    .dataframe thead th {\n",
       "        text-align: right;\n",
       "    }\n",
       "</style>\n",
       "<table border=\"1\" class=\"dataframe\">\n",
       "  <thead>\n",
       "    <tr style=\"text-align: right;\">\n",
       "      <th></th>\n",
       "      <th>fare_amount</th>\n",
       "      <th>pickup_datetime</th>\n",
       "      <th>pickup_longitude</th>\n",
       "      <th>pickup_latitude</th>\n",
       "      <th>dropoff_longitude</th>\n",
       "      <th>dropoff_latitude</th>\n",
       "      <th>passenger_count</th>\n",
       "      <th>day_of_week</th>\n",
       "    </tr>\n",
       "  </thead>\n",
       "  <tbody>\n",
       "    <tr>\n",
       "      <th>0</th>\n",
       "      <td>7.5</td>\n",
       "      <td>2015-05-07 19:52:06+00:00</td>\n",
       "      <td>-73.999817</td>\n",
       "      <td>40.738354</td>\n",
       "      <td>-73.999512</td>\n",
       "      <td>40.723217</td>\n",
       "      <td>1</td>\n",
       "      <td>3</td>\n",
       "    </tr>\n",
       "    <tr>\n",
       "      <th>1</th>\n",
       "      <td>7.7</td>\n",
       "      <td>2009-07-17 20:04:56+00:00</td>\n",
       "      <td>-73.994355</td>\n",
       "      <td>40.728225</td>\n",
       "      <td>-73.994710</td>\n",
       "      <td>40.750325</td>\n",
       "      <td>1</td>\n",
       "      <td>4</td>\n",
       "    </tr>\n",
       "    <tr>\n",
       "      <th>2</th>\n",
       "      <td>12.9</td>\n",
       "      <td>2009-08-24 21:45:00+00:00</td>\n",
       "      <td>-74.005043</td>\n",
       "      <td>40.740770</td>\n",
       "      <td>-73.962565</td>\n",
       "      <td>40.772647</td>\n",
       "      <td>1</td>\n",
       "      <td>0</td>\n",
       "    </tr>\n",
       "    <tr>\n",
       "      <th>3</th>\n",
       "      <td>5.3</td>\n",
       "      <td>2009-06-26 08:22:21+00:00</td>\n",
       "      <td>-73.976124</td>\n",
       "      <td>40.790844</td>\n",
       "      <td>-73.965316</td>\n",
       "      <td>40.803349</td>\n",
       "      <td>3</td>\n",
       "      <td>4</td>\n",
       "    </tr>\n",
       "    <tr>\n",
       "      <th>4</th>\n",
       "      <td>16.0</td>\n",
       "      <td>2014-08-28 17:47:00+00:00</td>\n",
       "      <td>-73.925023</td>\n",
       "      <td>40.744085</td>\n",
       "      <td>-73.973082</td>\n",
       "      <td>40.761247</td>\n",
       "      <td>5</td>\n",
       "      <td>3</td>\n",
       "    </tr>\n",
       "  </tbody>\n",
       "</table>\n",
       "</div>"
      ],
      "text/plain": [
       "   fare_amount           pickup_datetime  pickup_longitude  pickup_latitude  \\\n",
       "0          7.5 2015-05-07 19:52:06+00:00        -73.999817        40.738354   \n",
       "1          7.7 2009-07-17 20:04:56+00:00        -73.994355        40.728225   \n",
       "2         12.9 2009-08-24 21:45:00+00:00        -74.005043        40.740770   \n",
       "3          5.3 2009-06-26 08:22:21+00:00        -73.976124        40.790844   \n",
       "4         16.0 2014-08-28 17:47:00+00:00        -73.925023        40.744085   \n",
       "\n",
       "   dropoff_longitude  dropoff_latitude  passenger_count  day_of_week  \n",
       "0         -73.999512         40.723217                1            3  \n",
       "1         -73.994710         40.750325                1            4  \n",
       "2         -73.962565         40.772647                1            0  \n",
       "3         -73.965316         40.803349                3            4  \n",
       "4         -73.973082         40.761247                5            3  "
      ]
     },
     "execution_count": 8,
     "metadata": {},
     "output_type": "execute_result"
    }
   ],
   "source": [
    "df.head(5)"
   ]
  },
  {
   "cell_type": "code",
   "execution_count": 10,
   "id": "5eb696a0",
   "metadata": {},
   "outputs": [],
   "source": [
    "# Handle missing values\n",
    "# We can choose to drop rows with missing values or fill them with appropriate values.\n",
    "\n",
    "#df.dropna(inplace=True)"
   ]
  },
  {
   "cell_type": "code",
   "execution_count": 11,
   "id": "5af2a482",
   "metadata": {},
   "outputs": [
    {
     "data": {
      "image/png": "[encoded data removed]",
      "text/plain": [
       "<Figure size 640x480 with 1 Axes>"
      ]
     },
     "metadata": {},
     "output_type": "display_data"
    }
   ],
   "source": [
    "# 2. Identify outliers\n",
    "# visualization to detect outliers.\n",
    "\n",
    "import seaborn as sns\n",
    "import matplotlib.pyplot as plt\n",
    "sns.boxplot(x=df[\"fare_amount\"])\n",
    "plt.show()"
   ]
  },
  {
   "cell_type": "code",
   "execution_count": 12,
   "id": "27ad53f0",
   "metadata": {},
   "outputs": [],
   "source": [
    "# Remove rows where fare_amount is less than or equal to 0 (since Poisson can't handle that)\n",
    "df = df[df['fare_amount'] > 0]\n",
    "\n",
    "# Ensure no other invalid values like NaN are present in the dataset\n",
    "df = df.replace([np.inf, -np.inf], np.nan)\n",
    "df = df.dropna()"
   ]
  },
  {
   "cell_type": "code",
   "execution_count": 14,
   "id": "cadae84e",
   "metadata": {},
   "outputs": [
    {
     "name": "stdout",
     "output_type": "stream",
     "text": [
      "Invalid Latitude Records:\n",
      "       fare_amount           pickup_datetime  pickup_longitude  \\\n",
      "56617          8.1 2012-03-11 07:24:00+00:00        -73.960828   \n",
      "61793          8.5 2012-06-13 05:45:00+00:00        -73.951385   \n",
      "75851         15.7 2011-11-05 00:22:00+00:00      -1340.648410   \n",
      "91422         16.1 2011-05-18 13:24:00+00:00         57.418457   \n",
      "\n",
      "       pickup_latitude  dropoff_longitude  dropoff_latitude  passenger_count  \\\n",
      "56617       404.433332         -73.988357         40.769037                1   \n",
      "61793       401.066667         -73.982110         40.754117                1   \n",
      "75851      1644.421482       -3356.666300        872.697628                1   \n",
      "91422      1292.016128        1153.572603       -881.985513                1   \n",
      "\n",
      "       day_of_week  \n",
      "56617            6  \n",
      "61793            2  \n",
      "75851            5  \n",
      "91422            2  \n",
      "Invalid Longitude Records:\n",
      "        fare_amount           pickup_datetime  pickup_longitude  \\\n",
      "4949            4.9 2012-04-28 00:58:00+00:00       -748.016667   \n",
      "48506          33.7 2011-11-05 23:26:00+00:00       -735.200000   \n",
      "75851          15.7 2011-11-05 00:22:00+00:00      -1340.648410   \n",
      "103745         12.9 2011-10-14 19:04:00+00:00       -736.216667   \n",
      "144253          7.3 2009-08-26 11:55:00+00:00       -768.550000   \n",
      "161652          4.1 2010-05-12 12:19:00+00:00       -735.433332   \n",
      "199936          4.1 2012-07-21 16:19:00+00:00       -736.400000   \n",
      "\n",
      "        pickup_latitude  dropoff_longitude  dropoff_latitude  passenger_count  \\\n",
      "4949          40.739957         -74.003570         40.734192                1   \n",
      "48506         40.770092         -73.980187         40.765530                1   \n",
      "75851       1644.421482       -3356.666300        872.697628                1   \n",
      "103745        40.767035         -73.982377         40.725562                1   \n",
      "144253        40.757812         -73.997040         40.740007                1   \n",
      "161652        40.740605         -74.006373         40.739607                1   \n",
      "199936        40.774307         -73.982215         40.769672                5   \n",
      "\n",
      "        day_of_week  \n",
      "4949              5  \n",
      "48506             5  \n",
      "75851             5  \n",
      "103745            4  \n",
      "144253            2  \n",
      "161652            2  \n",
      "199936            5  \n"
     ]
    }
   ],
   "source": [
    "# Check for valid latitude and longitude values\n",
    "invalid_latitude = df[(df['pickup_latitude'] < -90) | (df['pickup_latitude'] > 90)]\n",
    "invalid_longitude = df[(df['pickup_longitude'] < -180) | (df['pickup_longitude'] > 180)]\n",
    "\n",
    "print(f\"Invalid Latitude Records:\\n{invalid_latitude}\")\n",
    "print(f\"Invalid Longitude Records:\\n{invalid_longitude}\")"
   ]
  },
  {
   "cell_type": "code",
   "execution_count": 15,
   "id": "abcf0215",
   "metadata": {},
   "outputs": [],
   "source": [
    "df = df[\n",
    "    (df['pickup_latitude'] >= -90) & (df['pickup_latitude'] <= 90) &\n",
    "    (df['dropoff_latitude'] >= -90) & (df['dropoff_latitude'] <= 90) &\n",
    "    (df['pickup_longitude'] >= -180) & (df['pickup_longitude'] <= 180) &\n",
    "    (df['dropoff_longitude'] >= -180) & (df['dropoff_longitude'] <= 180)\n",
    "]"
   ]
  },
  {
   "cell_type": "code",
   "execution_count": 16,
   "id": "ac4dcdc5",
   "metadata": {},
   "outputs": [
    {
     "name": "stdout",
     "output_type": "stream",
     "text": [
      "Invalid Latitude Records:\n",
      "Empty DataFrame\n",
      "Columns: [fare_amount, pickup_datetime, pickup_longitude, pickup_latitude, dropoff_longitude, dropoff_latitude, passenger_count, day_of_week]\n",
      "Index: []\n",
      "Invalid Longitude Records:\n",
      "Empty DataFrame\n",
      "Columns: [fare_amount, pickup_datetime, pickup_longitude, pickup_latitude, dropoff_longitude, dropoff_latitude, passenger_count, day_of_week]\n",
      "Index: []\n"
     ]
    }
   ],
   "source": [
    "# Check for valid latitude and longitude values\n",
    "invalid_latitude = df[(df['pickup_latitude'] < -90) | (df['pickup_latitude'] > 90)]\n",
    "invalid_longitude = df[(df['pickup_longitude'] < -180) | (df['pickup_longitude'] > 180)]\n",
    "\n",
    "print(f\"Invalid Latitude Records:\\n{invalid_latitude}\")\n",
    "print(f\"Invalid Longitude Records:\\n{invalid_longitude}\")"
   ]
  },
  {
   "cell_type": "code",
   "execution_count": 17,
   "id": "59cf1cec",
   "metadata": {},
   "outputs": [
    {
     "data": {
      "image/png": "[encoded data removed]",
      "text/plain": [
       "<Figure size 640x480 with 1 Axes>"
      ]
     },
     "metadata": {},
     "output_type": "display_data"
    }
   ],
   "source": [
    "sns.boxplot(x=df[\"fare_amount\"])\n",
    "plt.show()"
   ]
  },
  {
   "cell_type": "code",
   "execution_count": 19,
   "id": "1e9ceae2",
   "metadata": {},
   "outputs": [
    {
     "data": {
      "image/png": "[encoded data removed]",
      "text/plain": [
       "<Figure size 640x480 with 1 Axes>"
      ]
     },
     "metadata": {},
     "output_type": "display_data"
    }
   ],
   "source": [
    "#outliers detection\n",
    "# Calculate the IQR for the 'fare_amount' column\n",
    "Q1 = df[\"fare_amount\"].quantile(0.25)\n",
    "Q3 = df[\"fare_amount\"].quantile(0.75)\n",
    "IQR = Q3 - Q1\n",
    "\n",
    "# Define a threshold (e.g., 1.5 times the IQR) to identify outliers\n",
    "threshold = 1.5\n",
    "lower_bound = Q1 - threshold * IQR\n",
    "upper_bound = Q3 + threshold * IQR\n",
    "\n",
    "\n",
    "#analyse\n",
    "outliers = df[(df['fare_amount'] < lower_bound) | (df['fare_amount'] > upper_bound)]\n",
    "sns.boxplot(x=outliers[\"fare_amount\"])\n",
    "plt.show()\n",
    "\n"
   ]
  },
  {
   "cell_type": "code",
   "execution_count": 21,
   "id": "c60ec95e",
   "metadata": {},
   "outputs": [
    {
     "data": {
      "image/png": "[encoded data removed]",
      "text/plain": [
       "<Figure size 640x480 with 1 Axes>"
      ]
     },
     "metadata": {},
     "output_type": "display_data"
    }
   ],
   "source": [
    "# Remove outliers\n",
    "data_no_outliers = df[(df[\"fare_amount\"] >= lower_bound) & (df[\"fare_amount\"] <= upper_bound)]\n",
    "\n",
    "# Visualize the 'fare_amount' distribution without outliers\n",
    "sns.boxplot(x=data_no_outliers[\"fare_amount\"])\n",
    "plt.show()"
   ]
  },
  {
   "cell_type": "code",
   "execution_count": 28,
   "id": "59b5fd77",
   "metadata": {},
   "outputs": [
    {
     "name": "stdout",
     "output_type": "stream",
     "text": [
      "                   fare_amount  pickup_longitude  pickup_latitude  \\\n",
      "fare_amount           1.000000          0.011645        -0.011570   \n",
      "pickup_longitude      0.011645          1.000000        -0.979043   \n",
      "pickup_latitude      -0.011570         -0.979043         1.000000   \n",
      "dropoff_longitude     0.012152          0.949926        -0.936913   \n",
      "dropoff_latitude     -0.012522         -0.936836         0.958347   \n",
      "passenger_count       0.011026         -0.000778        -0.000584   \n",
      "\n",
      "                   dropoff_longitude  dropoff_latitude  passenger_count  \n",
      "fare_amount                 0.012152         -0.012522         0.011026  \n",
      "pickup_longitude            0.949926         -0.936836        -0.000778  \n",
      "pickup_latitude            -0.936913          0.958347        -0.000584  \n",
      "dropoff_longitude           1.000000         -0.979679        -0.000471  \n",
      "dropoff_latitude           -0.979679          1.000000        -0.001408  \n",
      "passenger_count            -0.000471         -0.001408         1.000000  \n"
     ]
    }
   ],
   "source": [
    "#check correlation\n",
    "df_for_corr = df.drop(columns=[ 'pickup_datetime','day_of_week'])\n",
    "\n",
    "correlation_matrix=df_for_corr.corr()\n",
    "print(correlation_matrix)"
   ]
  },
  {
   "cell_type": "code",
   "execution_count": 29,
   "id": "e5466cad",
   "metadata": {},
   "outputs": [
    {
     "data": {
      "image/png": "[encoded data removed]",
      "text/plain": [
       "<Figure size 800x600 with 2 Axes>"
      ]
     },
     "metadata": {},
     "output_type": "display_data"
    }
   ],
   "source": [
    "plt.figure(figsize=(8,6))\n",
    "sns.heatmap(correlation_matrix,annot=True)\n",
    "plt.show()"
   ]
  },
  {
   "cell_type": "code",
   "execution_count": 30,
   "id": "f09eca22",
   "metadata": {},
   "outputs": [
    {
     "data": {
      "text/plain": [
       "0          7.5\n",
       "1          7.7\n",
       "2         12.9\n",
       "3          5.3\n",
       "4         16.0\n",
       "          ... \n",
       "199995     3.0\n",
       "199996     7.5\n",
       "199997    30.9\n",
       "199998    14.5\n",
       "199999    14.1\n",
       "Name: fare_amount, Length: 199965, dtype: float64"
      ]
     },
     "execution_count": 30,
     "metadata": {},
     "output_type": "execute_result"
    }
   ],
   "source": [
    "#Implement linear regression and random forest regression models\n",
    "\n",
    "X = df[['pickup_longitude', 'pickup_latitude', 'dropoff_longitude', 'dropoff_latitude', 'passenger_count']]\n",
    "y = df['fare_amount']  #Target\n",
    "\n",
    "y"
   ]
  },
  {
   "cell_type": "code",
   "execution_count": 39,
   "id": "bd391d69",
   "metadata": {},
   "outputs": [],
   "source": [
    "from sklearn.model_selection import train_test_split\n",
    "from sklearn.preprocessing import StandardScaler\n",
    "from sklearn.metrics import mean_squared_error, r2_score"
   ]
  },
  {
   "cell_type": "code",
   "execution_count": 40,
   "id": "384bb2f0",
   "metadata": {},
   "outputs": [],
   "source": [
    "X_train,X_test,y_train,y_test = train_test_split(X,y, test_size=0.2,random_state=42)"
   ]
  },
  {
   "cell_type": "code",
   "execution_count": 41,
   "id": "47c28299",
   "metadata": {},
   "outputs": [],
   "source": [
    "scaler = StandardScaler()\n",
    "X_train=scaler.fit_transform(X_train)\n",
    "X_test=scaler.fit_transform(X_test)\n",
    "\n"
   ]
  },
  {
   "cell_type": "code",
   "execution_count": 42,
   "id": "11ae87cc",
   "metadata": {},
   "outputs": [],
   "source": [
    "result = {}"
   ]
  },
  {
   "cell_type": "code",
   "execution_count": 43,
   "id": "7994d06d",
   "metadata": {},
   "outputs": [],
   "source": [
    "#model implementation\n",
    "# (i) Linear Regression\n",
    "from sklearn.linear_model import LinearRegression\n",
    "\n",
    "lr_model = LinearRegression()\n",
    "lr_model.fit(X_train,y_train)\n",
    "y_pred_lr=lr_model.predict(X_test)\n",
    "\n",
    "result['LinearRegression']={\n",
    "    'R2': r2_score(y_test, y_pred_lr),\n",
    "    'MSE': mean_squared_error(y_test, y_pred_lr),\n",
    "    'RMSE': np.sqrt(mean_squared_error(y_test, y_pred_lr))\n",
    "}"
   ]
  },
  {
   "cell_type": "code",
   "execution_count": 44,
   "id": "9799fe39",
   "metadata": {},
   "outputs": [
    {
     "name": "stdout",
     "output_type": "stream",
     "text": [
      "{'LinearRegression': {'R2': -0.00020695221726896307, 'MSE': 94.13927837485161, 'RMSE': 9.70253978991334}}\n"
     ]
    }
   ],
   "source": [
    "print(result)"
   ]
  },
  {
   "cell_type": "code",
   "execution_count": 48,
   "id": "9ad6c5f8",
   "metadata": {},
   "outputs": [],
   "source": [
    "#(ii) Random Forest Regressor\n",
    "\n",
    "from sklearn.ensemble import RandomForestRegressor\n",
    "rf_model = RandomForestRegressor()\n",
    "rf_model.fit(X_train, y_train)\n",
    "y_pred_rf = rf_model.predict(X_test)\n",
    "result['Random Forest'] = {\n",
    "   'R2': r2_score(y_test, y_pred_rf),\n",
    "   'MSE': mean_squared_error(y_test, y_pred_rf),\n",
    "   'RMSE': np.sqrt(mean_squared_error(y_test, y_pred_rf))\n",
    "}"
   ]
  },
  {
   "cell_type": "code",
   "execution_count": 52,
   "id": "69ba3f98",
   "metadata": {},
   "outputs": [],
   "source": [
    "#iii ElasticNet\\\n",
    "from sklearn.linear_model import ElasticNet\n",
    "en_model=ElasticNet()\n",
    "en_model.fit(X_train,y_train)\n",
    "y_pred_en=en_model.predict(X_test)\n",
    "result['ElasticNet'] = {\n",
    "   'R2': r2_score(y_test, y_pred_en),\n",
    "   'MSE': mean_squared_error(y_test, y_pred_en),\n",
    "   'RMSE': np.sqrt(mean_squared_error(y_test, y_pred_en))\n",
    "}"
   ]
  },
  {
   "cell_type": "code",
   "execution_count": 55,
   "id": "c545c57d",
   "metadata": {},
   "outputs": [],
   "source": [
    "#ivXGBRegressor\n",
    "import xgboost as xgb\n",
    "xgb_model=xgb.XGBRegressor()\n",
    "xgb_model.fit(X_train,y_train)\n",
    "y_pred_xgb=xgb_model.predict(X_test)\n",
    "result['XGBRegressor'] = {\n",
    "   'R2': r2_score(y_test, y_pred_xgb),\n",
    "   'MSE': mean_squared_error(y_test, y_pred_xgb),\n",
    "   'RMSE': np.sqrt(mean_squared_error(y_test, y_pred_xgb))\n",
    "}"
   ]
  },
  {
   "cell_type": "code",
   "execution_count": 58,
   "id": "73677603",
   "metadata": {},
   "outputs": [],
   "source": [
    "#v Poisson Regression\n",
    "import statsmodels.api as sm\n",
    "poisson_model=sm.GLM(y_train,X_train, family=sm.families.Poisson()).fit()\n",
    "y_pred_poisson=poisson_model.predict(X_test)\n",
    "result['Poisson Regression'] = {\n",
    "   'R2': r2_score(y_test, y_pred_poisson),\n",
    "   'MSE': mean_squared_error(y_test,y_pred_poisson),\n",
    "   'RMSE': np.sqrt(mean_squared_error(y_test,y_pred_poisson))\n",
    "}"
   ]
  },
  {
   "cell_type": "code",
   "execution_count": 59,
   "id": "464be573",
   "metadata": {},
   "outputs": [
    {
     "name": "stdout",
     "output_type": "stream",
     "text": [
      "                          R2         MSE       RMSE\n",
      "LinearRegression   -0.000207   94.139278   9.702540\n",
      "Random Forest       0.665832   31.451825   5.608193\n",
      "Elastic Net        -0.000059   94.125391   9.701824\n",
      "XGBRegressor        0.601189   37.536050   6.126667\n",
      "Poisson Regression -1.125247  200.027853  14.143120\n"
     ]
    }
   ],
   "source": [
    "# 5. Evaluate and compare models\n",
    "results_df = pd.DataFrame(result).T\n",
    "print(results_df)"
   ]
  },
  {
   "cell_type": "code",
   "execution_count": 60,
   "id": "207cf678",
   "metadata": {},
   "outputs": [
    {
     "data": {
      "image/png": "[encoded data removed]",
      "text/plain": [
       "<Figure size 1200x600 with 1 Axes>"
      ]
     },
     "metadata": {},
     "output_type": "display_data"
    }
   ],
   "source": [
    "# 6. Plot the results\n",
    "plt.figure(figsize=(12, 6))\n",
    "plt.plot(results_df.index, results_df['R2'], label='R2 Score', marker='o')\n",
    "plt.plot(results_df.index, results_df['MSE'], label='MSE', marker='o')\n",
    "plt.plot(results_df.index, results_df['RMSE'], label='RMSE', marker='o')\n",
    "plt.title('Model Comparison')\n",
    "plt.xlabel('Model')\n",
    "plt.ylabel('Score')\n",
    "plt.legend()\n",
    "plt.grid(True)\n",
    "plt.show()"
   ]
  },
  {
   "cell_type": "code",
   "execution_count": null,
   "id": "59aafb2f",
   "metadata": {},
   "outputs": [],
   "source": []
  }
 ],
 "metadata": {
  "kernelspec": {
   "display_name": "Python 3 (ipykernel)",
   "language": "python",
   "name": "python3"
  },
  "language_info": {
   "codemirror_mode": {
    "name": "ipython",
    "version": 3
   },
   "file_extension": ".py",
   "mimetype": "text/x-python",
   "name": "python",
   "nbconvert_exporter": "python",
   "pygments_lexer": "ipython3",
   "version": "3.11.7"
  }
 },
 "nbformat": 4,
 "nbformat_minor": 5
}
